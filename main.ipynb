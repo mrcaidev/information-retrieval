{
 "cells": [
  {
   "cell_type": "markdown",
   "metadata": {},
   "source": [
    "# 基于矩阵分解的评分预测"
   ]
  },
  {
   "cell_type": "markdown",
   "metadata": {},
   "source": [
    "导入包。"
   ]
  },
  {
   "cell_type": "code",
   "execution_count": null,
   "metadata": {},
   "outputs": [],
   "source": [
    "import numpy as np\n",
    "import pandas as pd"
   ]
  },
  {
   "cell_type": "markdown",
   "metadata": {},
   "source": [
    "读取评分数据集和电影数据集。"
   ]
  },
  {
   "cell_type": "code",
   "execution_count": null,
   "metadata": {},
   "outputs": [],
   "source": [
    "ratings_data_set = pd.read_csv(\"data/ratings.csv\").head(300)\n",
    "movies_data_set = pd.read_csv(\"data/movies.csv\")"
   ]
  },
  {
   "cell_type": "markdown",
   "metadata": {},
   "source": [
    "将评分数据集划分为训练集、验证集和测试集，比例为 8:1:1。"
   ]
  },
  {
   "cell_type": "code",
   "execution_count": null,
   "metadata": {},
   "outputs": [],
   "source": [
    "train_set = ratings_data_set.sample(frac=0.8, random_state=42)\n",
    "validation_and_test_set = ratings_data_set.drop(train_set.index)\n",
    "validation_set = validation_and_test_set.sample(frac=0.5, random_state=42)\n",
    "test_set = validation_and_test_set.drop(validation_set.index)"
   ]
  },
  {
   "cell_type": "markdown",
   "metadata": {},
   "source": [
    "确定评分矩阵的维度，即用户总数 m 和电影总数 n。"
   ]
  },
  {
   "cell_type": "code",
   "execution_count": null,
   "metadata": {},
   "outputs": [],
   "source": [
    "users_num = ratings_data_set.userId.unique().shape[0]\n",
    "movies_num = movies_data_set.movieId.unique().shape[0]"
   ]
  },
  {
   "cell_type": "markdown",
   "metadata": {},
   "source": [
    "`build_R` 函数根据给定的评分数据，创建评分矩阵；未评分用 NaN 来表示。"
   ]
  },
  {
   "cell_type": "code",
   "execution_count": null,
   "metadata": {},
   "outputs": [],
   "source": [
    "def build_R(ratings: pd.DataFrame):\n",
    "    R = np.full((users_num, movies_num), np.nan)\n",
    "\n",
    "    for rating in ratings.itertuples():\n",
    "        row = rating.userId - 1\n",
    "        column = movies_data_set[movies_data_set.movieId == rating.movieId].index[0]\n",
    "        R[row, column] = rating.rating\n",
    "\n",
    "    return R"
   ]
  },
  {
   "cell_type": "markdown",
   "metadata": {},
   "source": [
    "`matrix_factorization` 函数使用 BiasSVD 算法来分解评分矩阵 R (m×n)，分解结果如下：\n",
    "\n",
    "- P (m×k) 代表用户内在特征矩阵，可以理解为 m 位用户在 k 个特征方向上的喜好。\n",
    "- Q (n×k) 代表电影内在特征矩阵，可以理解为 n 部电影在 k 个特征方向上的表现。\n",
    "- B 代表全局偏置，即所有评分的平均值。\n",
    "- BP (m×1) 代表用户偏置矩阵，即 m 位用户本身给分的高低倾向。\n",
    "- BQ (n×1) 代表电影偏置矩阵，即 n 部电影本身质量对评分的影响。"
   ]
  },
  {
   "cell_type": "code",
   "execution_count": null,
   "metadata": {},
   "outputs": [],
   "source": [
    "def matrix_factorization(R: np.ndarray, k=3, steps=3000, lr=0.0002, reg=0.01):\n",
    "    m, n = R.shape\n",
    "\n",
    "    P = np.random.rand(m, k)\n",
    "    Q = np.random.rand(n, k)\n",
    "    B = np.nanmean(R)\n",
    "    BP = np.random.rand(m)\n",
    "    BQ = np.random.rand(n)\n",
    "\n",
    "    for _ in range(steps):\n",
    "        for i, row in enumerate(R):\n",
    "            for j, value in enumerate(row):\n",
    "                if np.isnan(value):\n",
    "                    continue\n",
    "\n",
    "                diff = value - B - BP[i] - BQ[j] - np.dot(P[i], Q[j])\n",
    "                P[i] += lr * (2 * diff * Q[j] - 2 * reg * P[i])\n",
    "                Q[j] += lr * (2 * diff * P[i] - 2 * reg * Q[j])\n",
    "                BP[i] += lr * (2 * diff - 2 * reg * BP[i])\n",
    "                BQ[j] += lr * (2 * diff - 2 * reg * BQ[j])\n",
    "\n",
    "    return P, Q, B, BP, BQ"
   ]
  },
  {
   "cell_type": "markdown",
   "metadata": {},
   "source": [
    "`build_R_hat` 函数构建评分预测矩阵 $\\hat{R}$。\n",
    "\n",
    "用户 i 对电影 j 的评分为 $ r_{ij} = p_iq_j^T + b + bp_i + bq_j$。"
   ]
  },
  {
   "cell_type": "code",
   "execution_count": null,
   "metadata": {},
   "outputs": [],
   "source": [
    "def build_R_hat(P: np.ndarray, Q: np.ndarray, B: float, BP: np.ndarray, BQ: np.ndarray):\n",
    "    m = P.shape[0]\n",
    "    n = Q.shape[0]\n",
    "\n",
    "    return (\n",
    "        P @ Q.T\n",
    "        + B\n",
    "        + BP.reshape((-1, 1)).repeat(n, axis=1)\n",
    "        + BQ.reshape((1, -1)).repeat(m, axis=0)\n",
    "    )"
   ]
  },
  {
   "cell_type": "markdown",
   "metadata": {},
   "source": [
    "`evaluate` 函数在真实的评分数据集上，使用 MSE 来评估预测的准确性。"
   ]
  },
  {
   "cell_type": "code",
   "execution_count": null,
   "metadata": {},
   "outputs": [],
   "source": [
    "def evaluate(R_hat: np.ndarray, R_real: np.ndarray):\n",
    "    m, n = R_real.shape\n",
    "\n",
    "    values_num = np.count_nonzero(~np.isnan(R_real))\n",
    "    square_error = 0.0\n",
    "\n",
    "    for i in range(m):\n",
    "        for j in range(n):\n",
    "            if np.isnan(R_real[i, j]):\n",
    "                continue\n",
    "\n",
    "            square_error += (R_real[i, j] - R_hat[i, j]) ** 2\n",
    "\n",
    "    return square_error / values_num"
   ]
  },
  {
   "cell_type": "markdown",
   "metadata": {},
   "source": [
    "使用训练集计算评分预测矩阵。"
   ]
  },
  {
   "cell_type": "code",
   "execution_count": null,
   "metadata": {},
   "outputs": [],
   "source": [
    "R_train = build_R(train_set)\n",
    "P, Q, B, BP, BQ = matrix_factorization(R_train)\n",
    "R_hat = build_R_hat(P, Q, B, BP, BQ)"
   ]
  },
  {
   "cell_type": "markdown",
   "metadata": {},
   "source": [
    "使用验证集调整超参数。"
   ]
  },
  {
   "cell_type": "code",
   "execution_count": null,
   "metadata": {},
   "outputs": [],
   "source": [
    "R_validation = build_R(validation_set)\n",
    "mse = evaluate(R_hat, R_validation)\n",
    "print(\"MSE on validation set: \", mse)"
   ]
  },
  {
   "cell_type": "markdown",
   "metadata": {},
   "source": [
    "使用测试集评估模型的准确性。"
   ]
  },
  {
   "cell_type": "code",
   "execution_count": null,
   "metadata": {},
   "outputs": [],
   "source": [
    "R_test = build_R(test_set)\n",
    "mse = evaluate(R_hat, R_test)\n",
    "print(\"MSE on test set: \", mse)"
   ]
  }
 ],
 "metadata": {
  "kernelspec": {
   "display_name": "information-retrieval-I04Hy7MB-py3.11",
   "language": "python",
   "name": "python3"
  },
  "language_info": {
   "codemirror_mode": {
    "name": "ipython",
    "version": 3
   },
   "file_extension": ".py",
   "mimetype": "text/x-python",
   "name": "python",
   "nbconvert_exporter": "python",
   "pygments_lexer": "ipython3",
   "version": "3.11.5"
  }
 },
 "nbformat": 4,
 "nbformat_minor": 2
}
